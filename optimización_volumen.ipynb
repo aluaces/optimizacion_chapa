{
 "cells": [
  {
   "cell_type": "markdown",
   "metadata": {},
   "source": [
    "# Optimización de volumen de un depósito cilíndrico\n",
    "\n",
    "Este documento presenta el problema matemático que se va a resolver con la funcionalidad de Solidworks.\n",
    "\n",
    "Se dispone de una chapa de dimensiones $l \\times l$ (siendo $l=200mm$), y con ella se quiere construir un depósito cilíndrico abierto por su extremo superior.  Se necesita aprovechar bien el material y obtener un depósito con la máxima capacidad.\n",
    "\n",
    "Está claro que hay que recortar una tapa circular y un rectángulo que ocupen la mayor parte de la chapa, pero la incógnita es saber si compensa hacer la tapa más grande a costa de la altura de las paredes o viceversa.\n",
    "\n",
    "Llamando $h$ a la altura del depósito, y $d$ al diámetro de la chapa, calculemos el volumen:\n",
    "\n",
    "<img src=\"lata.svg.png\" alt=\"Drawing\" style=\"width: 400px;\"/>\n",
    "\n",
    "Manejaremos una librería CAS (Computer Algebra System) que nos permite hacer los cálculos simbólicamente, es decir, con expresiones algebraicas en lugar de cantidades numéricas como es habitual con ordenadores.  El nombre de la librería es Sympy (Symbolic Python).\n",
    "\n",
    "Primero hay que crear las variables simbólicas.  Una forma de hacerlo es importar algunos de los nombres más comunes desde la propia librería:"
   ]
  },
  {
   "cell_type": "code",
   "execution_count": 1,
   "metadata": {},
   "outputs": [],
   "source": [
    "import sympy"
   ]
  },
  {
   "cell_type": "code",
   "execution_count": 2,
   "metadata": {},
   "outputs": [],
   "source": [
    "from sympy.abc import d, l, h"
   ]
  },
  {
   "cell_type": "markdown",
   "metadata": {},
   "source": [
    "También están disponibles constantes como $\\pi$"
   ]
  },
  {
   "cell_type": "code",
   "execution_count": 3,
   "metadata": {},
   "outputs": [],
   "source": [
    "from sympy import pi"
   ]
  },
  {
   "cell_type": "markdown",
   "metadata": {},
   "source": [
    "Finalmente también importamos el símbolo $r$, que representa al radio de la tapa, y puede ser más cómodo en ciertas ocasiones:"
   ]
  },
  {
   "cell_type": "code",
   "execution_count": 4,
   "metadata": {},
   "outputs": [],
   "source": [
    "from sympy.abc import r"
   ]
  },
  {
   "cell_type": "markdown",
   "metadata": {},
   "source": [
    "Cuando se calcula una expresión que involucre a variables simbólicas, el resultado también es una variable simbólica, por lo que no tenemos que declarar $A$ de antemano:"
   ]
  },
  {
   "cell_type": "code",
   "execution_count": 5,
   "metadata": {},
   "outputs": [],
   "source": [
    "A=pi*r**2"
   ]
  },
  {
   "cell_type": "markdown",
   "metadata": {},
   "source": [
    "Ejemplo de cómo se puede sustituir una variable en una expresión.  En este caso hacemos la sustitución $d=\\frac{r}{2}$"
   ]
  },
  {
   "cell_type": "code",
   "execution_count": 6,
   "metadata": {},
   "outputs": [],
   "source": [
    "A=A.subs({r:d/2})"
   ]
  },
  {
   "cell_type": "code",
   "execution_count": 7,
   "metadata": {},
   "outputs": [
    {
     "data": {
      "text/latex": [
       "$\\displaystyle \\frac{\\pi d^{2}}{4}$"
      ],
      "text/plain": [
       "pi*d**2/4"
      ]
     },
     "execution_count": 7,
     "metadata": {},
     "output_type": "execute_result"
    }
   ],
   "source": [
    "A"
   ]
  },
  {
   "cell_type": "code",
   "execution_count": 8,
   "metadata": {},
   "outputs": [],
   "source": [
    "V=A*h"
   ]
  },
  {
   "cell_type": "code",
   "execution_count": 9,
   "metadata": {},
   "outputs": [],
   "source": [
    "V=V.subs({h: l-d})"
   ]
  },
  {
   "cell_type": "code",
   "execution_count": 10,
   "metadata": {},
   "outputs": [
    {
     "data": {
      "text/latex": [
       "$\\displaystyle \\frac{\\pi d^{2} \\left(- d + l\\right)}{4}$"
      ],
      "text/plain": [
       "pi*d**2*(-d + l)/4"
      ]
     },
     "execution_count": 10,
     "metadata": {},
     "output_type": "execute_result"
    }
   ],
   "source": [
    "V"
   ]
  },
  {
   "cell_type": "code",
   "execution_count": 11,
   "metadata": {},
   "outputs": [],
   "source": [
    "import matplotlib.pyplot as plt"
   ]
  },
  {
   "cell_type": "code",
   "execution_count": 12,
   "metadata": {},
   "outputs": [],
   "source": [
    "import numpy as np"
   ]
  },
  {
   "cell_type": "code",
   "execution_count": 24,
   "metadata": {},
   "outputs": [],
   "source": [
    "values_x = np.arange(0, 220, 10)"
   ]
  },
  {
   "cell_type": "code",
   "execution_count": 25,
   "metadata": {},
   "outputs": [
    {
     "data": {
      "text/plain": [
       "[<matplotlib.lines.Line2D at 0x7fc78e7a9410>]"
      ]
     },
     "execution_count": 25,
     "metadata": {},
     "output_type": "execute_result"
    },
    {
     "data": {
      "image/png": "[encoded data removed]",
      "text/plain": [
       "<Figure size 432x288 with 1 Axes>"
      ]
     },
     "metadata": {
      "needs_background": "light"
     },
     "output_type": "display_data"
    }
   ],
   "source": [
    "plt.plot(values_x, [V.subs({l: 200, d: x}).evalf() for x in values_x])"
   ]
  },
  {
   "cell_type": "code",
   "execution_count": 26,
   "metadata": {},
   "outputs": [],
   "source": [
    "ecuacion_optimizar = sympy.diff(V, d)"
   ]
  },
  {
   "cell_type": "code",
   "execution_count": 27,
   "metadata": {},
   "outputs": [
    {
     "data": {
      "text/latex": [
       "$\\displaystyle - \\frac{\\pi d^{2}}{4} + \\frac{\\pi d \\left(- d + l\\right)}{2}$"
      ],
      "text/plain": [
       "-pi*d**2/4 + pi*d*(-d + l)/2"
      ]
     },
     "execution_count": 27,
     "metadata": {},
     "output_type": "execute_result"
    }
   ],
   "source": [
    "ecuacion_optimizar"
   ]
  },
  {
   "cell_type": "code",
   "execution_count": 28,
   "metadata": {},
   "outputs": [],
   "source": [
    "soluciones = sympy.solve(ecuacion_optimizar, d)"
   ]
  },
  {
   "cell_type": "code",
   "execution_count": 29,
   "metadata": {},
   "outputs": [],
   "source": [
    "d_max = soluciones[1]"
   ]
  },
  {
   "cell_type": "code",
   "execution_count": 30,
   "metadata": {},
   "outputs": [
    {
     "data": {
      "text/latex": [
       "$\\displaystyle 133.333333333333$"
      ],
      "text/plain": [
       "133.333333333333"
      ]
     },
     "execution_count": 30,
     "metadata": {},
     "output_type": "execute_result"
    }
   ],
   "source": [
    "d_max.subs({l:200}).evalf()"
   ]
  },
  {
   "cell_type": "code",
   "execution_count": 20,
   "metadata": {},
   "outputs": [],
   "source": [
    "h_max = l - d_max"
   ]
  },
  {
   "cell_type": "code",
   "execution_count": 21,
   "metadata": {},
   "outputs": [
    {
     "data": {
      "text/latex": [
       "$\\displaystyle \\frac{l}{3}$"
      ],
      "text/plain": [
       "l/3"
      ]
     },
     "execution_count": 21,
     "metadata": {},
     "output_type": "execute_result"
    }
   ],
   "source": [
    "h_max"
   ]
  },
  {
   "cell_type": "code",
   "execution_count": 22,
   "metadata": {},
   "outputs": [
    {
     "data": {
      "text/latex": [
       "$\\displaystyle \\frac{200}{3}$"
      ],
      "text/plain": [
       "200/3"
      ]
     },
     "execution_count": 22,
     "metadata": {},
     "output_type": "execute_result"
    }
   ],
   "source": [
    "h_max.subs({l:200})"
   ]
  },
  {
   "cell_type": "markdown",
   "metadata": {},
   "source": [
    "Realmente, la solución está restringida al máximo $\\pi d < l$, con lo que $d < \\frac{l}{\\pi} = \\frac{200mm}{\\pi} = 63.662mm$"
   ]
  }
 ],
 "metadata": {
  "kernelspec": {
   "display_name": "Python 3",
   "language": "python",
   "name": "python3"
  },
  "language_info": {
   "codemirror_mode": {
    "name": "ipython",
    "version": 3
   },
   "file_extension": ".py",
   "mimetype": "text/x-python",
   "name": "python",
   "nbconvert_exporter": "python",
   "pygments_lexer": "ipython3",
   "version": "3.7.7"
  }
 },
 "nbformat": 4,
 "nbformat_minor": 4
}
